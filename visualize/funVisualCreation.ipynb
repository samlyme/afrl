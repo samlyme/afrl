{
 "cells": [
  {
   "cell_type": "code",
   "execution_count": null,
   "id": "649d9cf1-0e0f-487e-9b6e-b9ec667bd9a5",
   "metadata": {},
   "outputs": [],
   "source": [
    "\"\"\"\n",
    "Plot specific traj:\n",
    "    plotSpecific(\"path/to/your/trajectory.csv\")\n",
    "\n",
    "Plot random number o trajectories\n",
    "    plotMultiple(\"path/to/trajectory/directory\", num_trajectories)\n",
    "\n",
    "\"\"\"\n",
    "import pandas as pd\n",
    "import matplotlib.pyplot as plt\n",
    "from mpl_toolkits.mplot3d import Axes3D\n",
    "import argparse\n",
    "import os\n",
    "import numpy as np\n",
    "import random\n",
    "\n",
    "def read_trajectory(file_path):\n",
    "    df = pd.read_csv(file_path)\n",
    "    return df\n",
    "\n",
    "def compute_velocity(df):\n",
    "    df_velocity = df[['tx', 'ty', 'tz']].diff() / df['timestamp'].diff().values[:, None]\n",
    "    df_combined = pd.concat([df[['tx', 'ty', 'tz']], df_velocity], axis=1)\n",
    "    df_combined.columns = ['tx', 'ty', 'tz', 'vx', 'vy', 'vz']\n",
    "    return df_combined.dropna()\n",
    "\n",
    "def plot_trajectory(df, title, plot_velocity, ax):\n",
    "    ax.scatter(df['tx'], df['ty'], df['tz'], c='g', marker='o', label='Trajectory')\n",
    "    ax.set_xlabel('tx')\n",
    "    ax.set_ylabel('ty')\n",
    "    ax.set_zlabel('tz')\n",
    "    ax.set_title(f\"{title}\")\n",
    "\n",
    "    if plot_velocity:\n",
    "        df_combined = compute_velocity(df)\n",
    "        ax.quiver(df_combined['tx'], df_combined['ty'], df_combined['tz'],\n",
    "                  df_combined['vx'], df_combined['vy'], df_combined['vz'],\n",
    "                  color='r', length=0.1, normalize=False)\n",
    "\n",
    "def get_trajectory_files(directory):\n",
    "    return [f for f in os.listdir(directory) if os.path.isfile(os.path.join(directory, f)) and (f.endswith('.csv') or f.endswith('.txt'))]\n",
    "\n",
    "def plotSpecific(file_path):\n",
    "    fig = plt.figure()\n",
    "    ax = fig.add_subplot(111, projection='3d')\n",
    "    df = read_trajectory(file_path)\n",
    "    title = os.path.basename(file_path)\n",
    "    plot_trajectory(df, title, True , ax)\n",
    "    plt.show()\n",
    "    plt.savefig(\"trial2\")\n",
    "    print(\"Hello?\")\n",
    "\n",
    "def plotMultiple(directory, num_trajectories):\n",
    "    files = get_trajectory_files(directory)\n",
    "    if len(files) < num_trajectories:\n",
    "        print(\"Number of trajectories requested exceeds the available files. Plotting all available trajectories.\")\n",
    "        num_to_plot = len(files)\n",
    "    else:\n",
    "        num_to_plot = num_trajectories\n",
    "\n",
    "    # Determine the number of rows and columns for the subplots\n",
    "    cols = 3\n",
    "    rows = (num_to_plot + cols - 1) // cols\n",
    "\n",
    "    fig = plt.figure(figsize=(cols * 5, rows * 5))\n",
    "    random_files = random.sample(files, num_to_plot)\n",
    "\n",
    "    for i, file in enumerate(random_files, 1):\n",
    "        ax = fig.add_subplot(rows, cols, i, projection='3d')\n",
    "        file_path = os.path.join(directory, file)\n",
    "        df = read_trajectory(file_path)\n",
    "        plot_trajectory(df, file, True, ax)\n",
    "\n",
    "    plt.tight_layout()\n",
    "    plt.show()\n",
    "    print(\"hi\")"
   ]
  },
  {
   "cell_type": "code",
   "execution_count": 1,
   "id": "1c1bad05-4adf-4f1e-a1d4-cb03b7eba25e",
   "metadata": {},
   "outputs": [
    {
     "ename": "NameError",
     "evalue": "name 'plotSpecific' is not defined",
     "output_type": "error",
     "traceback": [
      "\u001b[0;31m---------------------------------------------------------------------------\u001b[0m",
      "\u001b[0;31mNameError\u001b[0m                                 Traceback (most recent call last)",
      "Cell \u001b[0;32mIn[1], line 1\u001b[0m\n\u001b[0;32m----> 1\u001b[0m plotSpecific(\u001b[38;5;124m\"\u001b[39m\u001b[38;5;124mcircle_15.txt\u001b[39m\u001b[38;5;124m\"\u001b[39m, \u001b[38;5;28;01mTrue\u001b[39;00m)\n",
      "\u001b[0;31mNameError\u001b[0m: name 'plotSpecific' is not defined"
     ]
    }
   ],
   "source": [
    "plotSpecific(\"circle_15.txt\", True)"
   ]
  },
  {
   "cell_type": "code",
   "execution_count": null,
   "id": "73dbd0cb-9074-47b2-b25b-d84ad2b295fa",
   "metadata": {},
   "outputs": [],
   "source": [
    "plotSpecific(\"indoor_forward_10_davis_with_gt.txt\", True)"
   ]
  },
  {
   "cell_type": "code",
   "execution_count": null,
   "id": "06f81b06-23e8-4add-94bf-5300bb5a8da0",
   "metadata": {},
   "outputs": [],
   "source": [
    "plotMultiple(\"data/random_trajectory_100ms\", 2)"
   ]
  },
  {
   "cell_type": "code",
   "execution_count": null,
   "id": "8d10228e",
   "metadata": {},
   "outputs": [],
   "source": [
    "# Need to figure out what the above means and calculates..."
   ]
  }
 ],
 "metadata": {
  "kernelspec": {
   "display_name": "ml",
   "language": "python",
   "name": "python3"
  },
  "language_info": {
   "codemirror_mode": {
    "name": "ipython",
    "version": 3
   },
   "file_extension": ".py",
   "mimetype": "text/x-python",
   "name": "python",
   "nbconvert_exporter": "python",
   "pygments_lexer": "ipython3",
   "version": "3.13.1"
  }
 },
 "nbformat": 4,
 "nbformat_minor": 5
}
