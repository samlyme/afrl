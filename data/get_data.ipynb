{
 "cells": [
  {
   "cell_type": "markdown",
   "metadata": {},
   "source": [
    "# Get Data from Hugging Face\n",
    "\n",
    "Instead of tracking data locally via Git (not good), we are **programmatically** accessing data via Hugging Face's client library.\n",
    "\n",
    "This notebook will retrieve the data and cache it locally, in a way that is does not impact Git."
   ]
  },
  {
   "cell_type": "code",
   "execution_count": null,
   "metadata": {},
   "outputs": [
    {
     "data": {
      "application/vnd.jupyter.widget-view+json": {
       "model_id": "67f378ab6ef5455dbfcbb689f7109583",
       "version_major": 2,
       "version_minor": 0
      },
      "text/plain": [
       "Fetching 5093 files:   0%|          | 0/5093 [00:00<?, ?it/s]"
      ]
     },
     "metadata": {},
     "output_type": "display_data"
    },
    {
     "data": {
      "text/plain": [
       "'/Users/samly/.cache/huggingface/hub/datasets--riotu-lab--Synthetic-UAV-Flight-Trajectories/snapshots/fc9ca0a62a8b6d8960e65267a166b3b415a9306d'"
      ]
     },
     "execution_count": 3,
     "metadata": {},
     "output_type": "execute_result"
    }
   ],
   "source": [
    "from huggingface_hub import snapshot_download\n",
    "\n",
    "# get the synthetic gazebo data\n",
    "print(snapshot_download(repo_id=\"riotu-lab/Synthetic-UAV-Flight-Trajectories\",\n",
    "                  repo_type=\"dataset\",\n",
    "                  allow_patterns=\"*.csv\")\n",
    ")\n",
    "# The first run takes a while to download, the second run is quick since the \n",
    "# data is cached\n",
    "\n"
   ]
  }
 ],
 "metadata": {
  "kernelspec": {
   "display_name": "ml",
   "language": "python",
   "name": "python3"
  },
  "language_info": {
   "codemirror_mode": {
    "name": "ipython",
    "version": 3
   },
   "file_extension": ".py",
   "mimetype": "text/x-python",
   "name": "python",
   "nbconvert_exporter": "python",
   "pygments_lexer": "ipython3",
   "version": "3.13.1"
  }
 },
 "nbformat": 4,
 "nbformat_minor": 2
}
