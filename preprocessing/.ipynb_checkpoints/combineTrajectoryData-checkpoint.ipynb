{
 "cells": [
  {
   "cell_type": "code",
   "execution_count": 2,
   "metadata": {},
   "outputs": [
    {
     "name": "stdout",
     "output_type": "stream",
     "text": [
      "circle_31.txt\n",
      "lemniscate_41.txt\n"
     ]
    }
   ],
   "source": [
    "import pandas as pd\n",
    "import numpy as np\n",
    "import os\n",
    "\n",
    "# Format: 20 input and 10 output with position, velocity, and acceleration\n",
    "# taken at every 10th of a second interval, so there are over lapping datapoints, however we can change it to our liking\n",
    "\n",
    "# right now all of the files are in the same directory as this file, so we can use the \".\"\n",
    "# however if we are parsing through different directories we can just change it to be in the one that we want\n",
    "directory_path = '../data/random_trajectory_100ms/'\n",
    "\n",
    "# files_content = []\n",
    "\n",
    "master = pd.DataFrame(columns=['input', 'output'])\n",
    "# for each txt file in the directory\n",
    "for filename in filter(lambda p: p.endswith(\"txt\"), os.listdir(directory_path)):\n",
    "    # read the filename\n",
    "    filepath = os.path.join(directory_path, filename)\n",
    "    df = pd.read_csv(filepath)\n",
    "    print(filename)\n",
    "    \n",
    "    # for now only use the position and timestamps for the velocity\n",
    "    df = df[['timestamp', 'tx', 'ty', 'tz']]\n",
    "\n",
    "    # get the difference in time stamps\n",
    "    # it is actually the same in both unix time conversions and the synthetic data :D\n",
    "    df['dt'] = df['timestamp'].diff()\n",
    "    # make sure that ther are no division by zero for the velocity calculation\n",
    "    df['dt'] = df['dt'].replace(0, np.nan)\n",
    "\n",
    "    # calculte the velocity vectors for the three different directions\n",
    "    df['vx'] = df['tx'].diff() / df['dt']\n",
    "    df['vy'] = df['ty'].diff() / df['dt']\n",
    "    df['vz'] = df['tz'].diff() / df['dt']\n",
    "\n",
    "    # calculate the acceleration vectors for the three different directions\n",
    "    df['ax'] = df['vx'].diff() / df['dt']\n",
    "    df['ay'] = df['vy'].diff() / df['dt']\n",
    "    df['az'] = df['vz'].diff() / df['dt']\n",
    "    \n",
    "    # we are creating a dataframe \n",
    "    for i in range(len(df) - 30):\n",
    "        input = []\n",
    "        output = []\n",
    "        for j in range(20):\n",
    "            temp = df.iloc[i+j]\n",
    "            input.append([0.1*j, temp[\"tx\"], temp[\"ty\"], temp[\"tz\"], temp[\"vx\"], temp[\"vy\"], temp[\"vz\"], temp[\"ax\"], temp[\"ay\"], temp[\"az\"]])\n",
    "            if j < 10:\n",
    "                temp = df.iloc[i+j+20]\n",
    "                output.append([(0.1*j)+2, temp[\"tx\"], temp[\"ty\"], temp[\"tz\"], temp[\"vx\"], temp[\"vy\"], temp[\"vz\"], temp[\"ax\"], temp[\"ay\"], temp[\"az\"]])\n",
    "        master.loc[len(master)] = [input, output]\n",
    "\n",
    "master.to_csv(\"../data/output/combinedTrajectories.csv\", index=False)"
   ]
  },
  {
   "cell_type": "code",
   "execution_count": 14,
   "metadata": {},
   "outputs": [
    {
     "name": "stdout",
     "output_type": "stream",
     "text": [
      "indoor_forward_10_davis_with_gt.txt\n"
     ]
    },
    {
     "ename": "ValueError",
     "evalue": "cannot set a row with mismatched columns",
     "output_type": "error",
     "traceback": [
      "\u001b[1;31m---------------------------------------------------------------------------\u001b[0m",
      "\u001b[1;31mValueError\u001b[0m                                Traceback (most recent call last)",
      "Cell \u001b[1;32mIn[14], line 45\u001b[0m\n\u001b[0;32m     41\u001b[0m     df[\u001b[38;5;124m'\u001b[39m\u001b[38;5;124maz\u001b[39m\u001b[38;5;124m'\u001b[39m] \u001b[38;5;241m=\u001b[39m df[\u001b[38;5;124m'\u001b[39m\u001b[38;5;124mvz\u001b[39m\u001b[38;5;124m'\u001b[39m]\u001b[38;5;241m.\u001b[39mdiff() \u001b[38;5;241m/\u001b[39m df[\u001b[38;5;124m'\u001b[39m\u001b[38;5;124mdt\u001b[39m\u001b[38;5;124m'\u001b[39m]\n\u001b[0;32m     43\u001b[0m     df \u001b[38;5;241m=\u001b[39m df\u001b[38;5;241m.\u001b[39mdrop(\u001b[38;5;124m'\u001b[39m\u001b[38;5;124mdt\u001b[39m\u001b[38;5;124m'\u001b[39m, axis\u001b[38;5;241m=\u001b[39m\u001b[38;5;241m1\u001b[39m)\n\u001b[1;32m---> 45\u001b[0m     master\u001b[38;5;241m.\u001b[39mloc[\u001b[38;5;28mlen\u001b[39m(master)] \u001b[38;5;241m=\u001b[39m (df)\n\u001b[0;32m     47\u001b[0m master\u001b[38;5;241m.\u001b[39mto_csv(\u001b[38;5;124m\"\u001b[39m\u001b[38;5;124m../data/output/combinedTrajectories.csv\u001b[39m\u001b[38;5;124m\"\u001b[39m, index\u001b[38;5;241m=\u001b[39m\u001b[38;5;28;01mFalse\u001b[39;00m)\n",
      "File \u001b[1;32m~\\anaconda3\\Lib\\site-packages\\pandas\\core\\indexing.py:911\u001b[0m, in \u001b[0;36m_LocationIndexer.__setitem__\u001b[1;34m(self, key, value)\u001b[0m\n\u001b[0;32m    908\u001b[0m \u001b[38;5;28mself\u001b[39m\u001b[38;5;241m.\u001b[39m_has_valid_setitem_indexer(key)\n\u001b[0;32m    910\u001b[0m iloc \u001b[38;5;241m=\u001b[39m \u001b[38;5;28mself\u001b[39m \u001b[38;5;28;01mif\u001b[39;00m \u001b[38;5;28mself\u001b[39m\u001b[38;5;241m.\u001b[39mname \u001b[38;5;241m==\u001b[39m \u001b[38;5;124m\"\u001b[39m\u001b[38;5;124miloc\u001b[39m\u001b[38;5;124m\"\u001b[39m \u001b[38;5;28;01melse\u001b[39;00m \u001b[38;5;28mself\u001b[39m\u001b[38;5;241m.\u001b[39mobj\u001b[38;5;241m.\u001b[39miloc\n\u001b[1;32m--> 911\u001b[0m iloc\u001b[38;5;241m.\u001b[39m_setitem_with_indexer(indexer, value, \u001b[38;5;28mself\u001b[39m\u001b[38;5;241m.\u001b[39mname)\n",
      "File \u001b[1;32m~\\anaconda3\\Lib\\site-packages\\pandas\\core\\indexing.py:1932\u001b[0m, in \u001b[0;36m_iLocIndexer._setitem_with_indexer\u001b[1;34m(self, indexer, value, name)\u001b[0m\n\u001b[0;32m   1929\u001b[0m     indexer, missing \u001b[38;5;241m=\u001b[39m convert_missing_indexer(indexer)\n\u001b[0;32m   1931\u001b[0m     \u001b[38;5;28;01mif\u001b[39;00m missing:\n\u001b[1;32m-> 1932\u001b[0m         \u001b[38;5;28mself\u001b[39m\u001b[38;5;241m.\u001b[39m_setitem_with_indexer_missing(indexer, value)\n\u001b[0;32m   1933\u001b[0m         \u001b[38;5;28;01mreturn\u001b[39;00m\n\u001b[0;32m   1935\u001b[0m \u001b[38;5;28;01mif\u001b[39;00m name \u001b[38;5;241m==\u001b[39m \u001b[38;5;124m\"\u001b[39m\u001b[38;5;124mloc\u001b[39m\u001b[38;5;124m\"\u001b[39m:\n\u001b[0;32m   1936\u001b[0m     \u001b[38;5;66;03m# must come after setting of missing\u001b[39;00m\n",
      "File \u001b[1;32m~\\anaconda3\\Lib\\site-packages\\pandas\\core\\indexing.py:2306\u001b[0m, in \u001b[0;36m_iLocIndexer._setitem_with_indexer_missing\u001b[1;34m(self, indexer, value)\u001b[0m\n\u001b[0;32m   2303\u001b[0m     \u001b[38;5;28;01mif\u001b[39;00m is_list_like_indexer(value):\n\u001b[0;32m   2304\u001b[0m         \u001b[38;5;66;03m# must have conforming columns\u001b[39;00m\n\u001b[0;32m   2305\u001b[0m         \u001b[38;5;28;01mif\u001b[39;00m \u001b[38;5;28mlen\u001b[39m(value) \u001b[38;5;241m!=\u001b[39m \u001b[38;5;28mlen\u001b[39m(\u001b[38;5;28mself\u001b[39m\u001b[38;5;241m.\u001b[39mobj\u001b[38;5;241m.\u001b[39mcolumns):\n\u001b[1;32m-> 2306\u001b[0m             \u001b[38;5;28;01mraise\u001b[39;00m \u001b[38;5;167;01mValueError\u001b[39;00m(\u001b[38;5;124m\"\u001b[39m\u001b[38;5;124mcannot set a row with mismatched columns\u001b[39m\u001b[38;5;124m\"\u001b[39m)\n\u001b[0;32m   2308\u001b[0m     value \u001b[38;5;241m=\u001b[39m Series(value, index\u001b[38;5;241m=\u001b[39m\u001b[38;5;28mself\u001b[39m\u001b[38;5;241m.\u001b[39mobj\u001b[38;5;241m.\u001b[39mcolumns, name\u001b[38;5;241m=\u001b[39mindexer)\n\u001b[0;32m   2310\u001b[0m \u001b[38;5;28;01mif\u001b[39;00m \u001b[38;5;129;01mnot\u001b[39;00m \u001b[38;5;28mlen\u001b[39m(\u001b[38;5;28mself\u001b[39m\u001b[38;5;241m.\u001b[39mobj):\n\u001b[0;32m   2311\u001b[0m     \u001b[38;5;66;03m# We will ignore the existing dtypes instead of using\u001b[39;00m\n\u001b[0;32m   2312\u001b[0m     \u001b[38;5;66;03m#  internals.concat logic\u001b[39;00m\n",
      "\u001b[1;31mValueError\u001b[0m: cannot set a row with mismatched columns"
     ]
    }
   ],
   "source": [
    "import pandas as pd\n",
    "import numpy as np\n",
    "import os\n",
    "\n",
    "# Format: 20 input and 10 output with position, velocity, and acceleration\n",
    "# taken at every 10th of a second interval, so there are over lapping datapoints, however we can change it to our liking\n",
    "\n",
    "# right now all of the files are in the same directory as this file, so we can use the \".\"\n",
    "# however if we are parsing through different directories we can just change it to be in the one that we want\n",
    "directory_path = '../data/random_trajectory_100ms/'\n",
    "\n",
    "# files_content = []\n",
    "\n",
    "# 'qx', 'qy', 'qz', 'qw', \n",
    "master = pd.DataFrame(columns=['date', 'tx', 'ty', 'tz', 'vx', 'vy', 'vz', 'ax', 'ay', 'az'])\n",
    "# for each txt file in the directory\n",
    "for filename in filter(lambda p: p.endswith(\"txt\"), os.listdir(directory_path)):\n",
    "    # read the filename\n",
    "    filepath = os.path.join(directory_path, filename)\n",
    "    df = pd.read_csv(filepath)\n",
    "    print(filename)\n",
    "    \n",
    "    # for now only use the position and timestamps for the velocity\n",
    "    df = df[['timestamp', 'tx', 'ty', 'tz']]\n",
    "\n",
    "    # get the difference in time stamps\n",
    "    # it is actually the same in both unix time conversions and the synthetic data :D\n",
    "    df['dt'] = df['timestamp'].diff()\n",
    "    # make sure that ther are no division by zero for the velocity calculation\n",
    "    df['dt'] = df['dt'].replace(0, np.nan)\n",
    "    df = df.rename(columns={'timestamp': 'date'})\n",
    "    df.head()\n",
    "    # calculte the velocity vectors for the three different directions\n",
    "    df['vx'] = df['tx'].diff() / df['dt']\n",
    "    df['vy'] = df['ty'].diff() / df['dt']\n",
    "    df['vz'] = df['tz'].diff() / df['dt']\n",
    "\n",
    "    # calculate the acceleration vectors for the three different directions\n",
    "    df['ax'] = df['vx'].diff() / df['dt']\n",
    "    df['ay'] = df['vy'].diff() / df['dt']\n",
    "    df['az'] = df['vz'].diff() / df['dt']\n",
    "\n",
    "    df = df.drop('dt', axis=1)\n",
    "    df.head()\n",
    "    # master.loc[len(master)] = (df)\n",
    "\n",
    "# master.to_csv(\"../data/output/combinedTrajectories.csv\", index=False)"
   ]
  },
  {
   "cell_type": "code",
   "execution_count": null,
   "metadata": {},
   "outputs": [],
   "source": []
  }
 ],
 "metadata": {
  "kernelspec": {
   "display_name": "Python 3 (ipykernel)",
   "language": "python",
   "name": "python3"
  },
  "language_info": {
   "codemirror_mode": {
    "name": "ipython",
    "version": 3
   },
   "file_extension": ".py",
   "mimetype": "text/x-python",
   "name": "python",
   "nbconvert_exporter": "python",
   "pygments_lexer": "ipython3",
   "version": "3.12.3"
  }
 },
 "nbformat": 4,
 "nbformat_minor": 4
}
